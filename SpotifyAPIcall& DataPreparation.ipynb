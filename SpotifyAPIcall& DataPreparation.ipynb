{
  "nbformat": 4,
  "nbformat_minor": 0,
  "metadata": {
    "kernelspec": {
      "display_name": "cloudcomputing",
      "language": "python",
      "name": "cloudcomputing"
    },
    "language_info": {
      "codemirror_mode": {
        "name": "ipython",
        "version": 3
      },
      "file_extension": ".py",
      "mimetype": "text/x-python",
      "name": "python",
      "nbconvert_exporter": "python",
      "pygments_lexer": "ipython3",
      "version": "3.6.12"
    },
    "colab": {
      "name": "FredericoFigueiredo_Assignment1_CC.ipynb",
      "provenance": [],
      "toc_visible": true
    }
  },
  "cells": [
    {
      "cell_type": "markdown",
      "metadata": {
        "deletable": false,
        "editable": false,
        "nbgrader": {
          "cell_type": "markdown",
          "checksum": "948e5e55ecc7c675b58a4699b22ffb32",
          "grade": false,
          "grade_id": "cell-aad0d9693d861220",
          "locked": true,
          "schema_version": 3,
          "solution": false,
          "task": false
        },
        "id": "L9YhLeYpkb2X"
      },
      "source": [
        "# Assignment 1\n",
        "\n",
        "This notebook contains a set of exercises that will guide you through the different steps of this assignment. The aim of this assignment is to create and save a dataset containing information about every song in a given playlist by requesting data from Spotify's API. You will then use this dataset during the Artifical Intelligence I course to train a predictive model.\n",
        "\n",
        "<div class=\"alert alert-danger\"><b>Submission deadline:</b> Thursday, November 12, 20:00</div>\n",
        "\n",
        "Read carefully the following instructions before starting the exercises.\n",
        "\n",
        "### Instructions\n",
        "\n",
        "- Write your code in the dedicated cells. You can use as many cells as you like. Just make sure to include all the necessary code before the corresponding test.\n",
        "\n",
        "- This notebook is automatically graded. This means that there are several cells embedded into the notebook that take care of checking your code and grading it. It also means that it is important **to follow the instructions for each of the exercises** to make sure that yo do everything right.\n",
        "\n",
        "- Checks use the ```nose``` library to assert different conditions.\n",
        "\n",
        "- The tests for the introductory exercises will be open for you to see. This will help you understand how the pipeline works and check that you got the basics right. You can run these checks as many times as you want, **as long as you don't modify them**.  \n",
        "\n",
        "- The tests for the remaining exercises will remain hidden. It is important that you **do not write any code, nor do you remove the cells left in blank** for this purpose. \n",
        "\n",
        "Before moving on, please run the following cell. You only need run it once in order to install the ```nose``` library."
      ]
    },
    {
      "cell_type": "code",
      "metadata": {
        "id": "spCRTg85kb2X",
        "colab": {
          "base_uri": "https://localhost:8080/"
        },
        "outputId": "e77c9675-34e3-4fda-d737-10482c50b84c"
      },
      "source": [
        "pip install nose"
      ],
      "execution_count": null,
      "outputs": [
        {
          "output_type": "stream",
          "text": [
            "Collecting nose\n",
            "\u001b[?25l  Downloading https://files.pythonhosted.org/packages/15/d8/dd071918c040f50fa1cf80da16423af51ff8ce4a0f2399b7bf8de45ac3d9/nose-1.3.7-py3-none-any.whl (154kB)\n",
            "\u001b[K     |████████████████████████████████| 163kB 2.8MB/s \n",
            "\u001b[?25hInstalling collected packages: nose\n",
            "Successfully installed nose-1.3.7\n"
          ],
          "name": "stdout"
        }
      ]
    },
    {
      "cell_type": "markdown",
      "metadata": {
        "deletable": false,
        "editable": false,
        "nbgrader": {
          "cell_type": "markdown",
          "checksum": "67e517c57172e438b2bd933a9c21c699",
          "grade": false,
          "grade_id": "cell-e0139011318f6903",
          "locked": true,
          "schema_version": 3,
          "solution": false,
          "task": false
        },
        "id": "R45smD5ykb2a"
      },
      "source": [
        "## Getting client credentials\n",
        "\n",
        "Spotify's API uses OAuth as an Authentication scheme. Hence, before starting to make requests, you need to get your client credentials to the Spotify API. \n",
        "\n",
        "![Dashboard](https://www.dropbox.com/s/cpfepk5fbq6ic5a/dashboard.png?raw=1)\n",
        "\n",
        "\n",
        "To do so, you need to have a Spotify account (free or paid). If you don't have one yet, please create a free account before moving on. Once you do, head over to Spotify for Developers and open your [Dashboard](https://developer.spotify.com/dashboard/) and log in with your account. \n",
        "\n",
        "<img src=\"https://www.dropbox.com/s/afubgs4ar99uh80/app.png?raw=1\" width=\"300\">\n",
        "\n",
        "Click on “CREATE AN APP”, choose a name and description for your project and work your way through the checkboxes. Don't worry about the actual name and description. The only thing we are interested in is getting the credentials.\n",
        "\n",
        "![Credentials](https://www.dropbox.com/s/3mmxxeet61nha4l/credentials.png?raw=1)\n",
        "\n",
        "Once your App has been created, you should see a “Client ID” and “Client Secret” on the left-hand side. These numbers correspond to your client credentials."
      ]
    },
    {
      "cell_type": "markdown",
      "metadata": {
        "deletable": false,
        "editable": false,
        "nbgrader": {
          "cell_type": "markdown",
          "checksum": "bbf7d5be575cd9dc92535a1ebf3673b3",
          "grade": false,
          "grade_id": "cell-4655de3fb67ffa5",
          "locked": true,
          "schema_version": 3,
          "solution": false,
          "task": false
        },
        "id": "8Q_mO13pkb2b"
      },
      "source": [
        "<div class=\"alert alert-info\"><b>Exercise </b>Create two new variables, <i>client_id</i> and <i>client_secret</i>, that store your ID and Key, respectively</div>"
      ]
    },
    {
      "cell_type": "code",
      "metadata": {
        "deletable": false,
        "nbgrader": {
          "cell_type": "code",
          "checksum": "002e5d6fec736f1215649284607d65a2",
          "grade": false,
          "grade_id": "cell-a8f99e4278237a63",
          "locked": false,
          "schema_version": 3,
          "solution": true,
          "task": false
        },
        "id": "ieUbnD6Okb2b"
      },
      "source": [
        "# YOUR CODE HERE\n",
        "client_id = '5159eee753ce46eaaf56a936960a589d'\n",
        "client_secret = '9e18405d9d0745a1ba02d164d60595c3'"
      ],
      "execution_count": null,
      "outputs": []
    },
    {
      "cell_type": "markdown",
      "metadata": {
        "deletable": false,
        "editable": false,
        "nbgrader": {
          "cell_type": "markdown",
          "checksum": "9641a46130bdcda7c26cdffbab7be511",
          "grade": false,
          "grade_id": "cell-64dcea57f1ef17bb",
          "locked": true,
          "schema_version": 3,
          "solution": false,
          "task": false
        },
        "id": "xbzcqxQfkb2d"
      },
      "source": [
        "Great! We are good to go. Next step is getting an access token.\n",
        "\n",
        "## Getting an access token\n",
        "\n",
        "In order to access the various endpoints of the Spotify API, we need to pass an access token. \n",
        "\n",
        "To get one, we need to pass a ```POST``` request with our client credentials. This request will create a token resource in the server and respond back with it. We can build this ```POST``` request using ```requests``` library. remember that this library contains all the different methods available when interacting with an API. You can build the ```POST``` request by running the following cell:"
      ]
    },
    {
      "cell_type": "code",
      "metadata": {
        "id": "uOtMoxF2kb2d"
      },
      "source": [
        "import requests\n",
        "\n",
        "# URL for token resource\n",
        "auth_url = 'https://accounts.spotify.com/api/token'\n",
        "\n",
        "# request body\n",
        "params = {'grant_type': 'client_credentials',\n",
        "          'client_id': client_id,\n",
        "          'client_secret': client_secret}\n",
        "\n",
        "# POST the request\n",
        "auth_response = requests.post(auth_url, params)"
      ],
      "execution_count": null,
      "outputs": []
    },
    {
      "cell_type": "markdown",
      "metadata": {
        "deletable": false,
        "editable": false,
        "nbgrader": {
          "cell_type": "markdown",
          "checksum": "7c860cb4e49975d5f8337233484a6492",
          "grade": false,
          "grade_id": "cell-7f64ef215d8cbf83",
          "locked": true,
          "schema_version": 3,
          "solution": false,
          "task": false
        },
        "id": "PCXtWGenkb2f"
      },
      "source": [
        "Retrieve the body of the response in JSON format and store your token in a new variable called *access_token* by running the cell below. Take note of the different steps."
      ]
    },
    {
      "cell_type": "code",
      "metadata": {
        "id": "Au0CXyQCkb2g"
      },
      "source": [
        "# convert the response to JSON\n",
        "auth_response_data = auth_response.json()\n",
        "\n",
        "# save the access token to a new variable\n",
        "access_token = auth_response_data['access_token']"
      ],
      "execution_count": null,
      "outputs": []
    },
    {
      "cell_type": "markdown",
      "metadata": {
        "deletable": false,
        "editable": false,
        "nbgrader": {
          "cell_type": "markdown",
          "checksum": "3455e25d7c7118932e7794cfab279813",
          "grade": false,
          "grade_id": "cell-d5a8d2ff0308a4e1",
          "locked": true,
          "schema_version": 3,
          "solution": false,
          "task": false
        },
        "id": "6SzkoxfLkb2i"
      },
      "source": [
        "Once you do, you can take a look at how your token looks like. You'll see that it is just a long alphanumeric string, like the client credentials you obtained in the previous step. This is your golden ticket to access Spotify's API. A copy of this string is now stored in the server, so that everytime to the API the server will check that the token you provide and the one it has in store match.\n",
        "\n",
        "## Poking around\n",
        "\n",
        "This API provides numerous endpoints to access things like album listings, artist information, playlists, even Spotify-generated audio analysis of individual tracks, which include their time signature or measurements such as their “danceability” or \"loudness\". You can take a look at all the information available by reading the [Docs](https://developer.spotify.com/documentation/web-api/reference/). In this assignment you will have to use different endpoints.\n",
        "\n",
        "Independently of the specific data you want to retrieve, you need to send a properly formed GET request to the API server. As you should know by now, this request is composed of different elements. \n",
        "\n",
        "<img src=\"https://www.dropbox.com/s/hgb02k4h1mtdv22/header.png?raw=1\" width=\"500\">\n",
        "\n",
        "As opposed to NASA's API, where we provided our API Key as part of the request body, Spotify's API expects you to include your access token in the requests header. There is a specific header called 'Authorization' for this purpose. Providing this information is sometimes tricky. Hence, the header has already been formatted for you. Just run the following cell to save save the header in a new variable so that you can use it later on."
      ]
    },
    {
      "cell_type": "code",
      "metadata": {
        "id": "6IViCAk_kb2i"
      },
      "source": [
        "headers = {\n",
        "    'Authorization': 'Bearer {token}'.format(token=access_token)\n",
        "}"
      ],
      "execution_count": null,
      "outputs": []
    },
    {
      "cell_type": "markdown",
      "metadata": {
        "id": "Am1xm9k2kb2k"
      },
      "source": [
        "In order to get a feel of how the API works, we will begin by making a ```GET``` requests to the ```audio-features``` endpoint to extract data for a specific track. In particular, let's retrieve all the information for Radiohead's **Creep**. \n",
        "\n",
        "The first thing you need is to identify the appropriate URL or path to direct your request to. The urls for all Spotify API endpoints follow the same structure. They all use the base URL for the API and are then defined as a concatenication of ```base_url + endpoint```. Sometimes, you will also need to provide some additional information as part of the path. In the case of ```audio-features```, it is enough with just the ```base_url``` and the ```endpoint``` name.\n",
        "\n",
        "The ```base_url``` is defined below:"
      ]
    },
    {
      "cell_type": "code",
      "metadata": {
        "id": "LZI2N5jakb2k"
      },
      "source": [
        "base_url = 'https://api.spotify.com/v1/'"
      ],
      "execution_count": null,
      "outputs": []
    },
    {
      "cell_type": "markdown",
      "metadata": {
        "id": "1__WqZnSkb2m"
      },
      "source": [
        "And the endpoint for this case is, as we said, defined as:"
      ]
    },
    {
      "cell_type": "code",
      "metadata": {
        "id": "zIXASIMokb2n"
      },
      "source": [
        "endpoint = 'audio-features'"
      ],
      "execution_count": null,
      "outputs": []
    },
    {
      "cell_type": "markdown",
      "metadata": {
        "deletable": false,
        "editable": false,
        "nbgrader": {
          "cell_type": "markdown",
          "checksum": "9e13af81815809d8062f7ba48cf08868",
          "grade": false,
          "grade_id": "cell-2b8f6e0fce55010f",
          "locked": true,
          "schema_version": 3,
          "solution": false,
          "task": false
        },
        "id": "Lu2m2v_Okb2p"
      },
      "source": [
        "Hence, we can define the url as follows:"
      ]
    },
    {
      "cell_type": "code",
      "metadata": {
        "id": "nArjyAXokb2p"
      },
      "source": [
        "url = base_url + endpoint"
      ],
      "execution_count": null,
      "outputs": []
    },
    {
      "cell_type": "markdown",
      "metadata": {
        "deletable": false,
        "editable": false,
        "nbgrader": {
          "cell_type": "markdown",
          "checksum": "b8585acee00c0e6d3384267c83a8eda1",
          "grade": false,
          "grade_id": "cell-abc5bc0d1f57c982",
          "locked": true,
          "schema_version": 3,
          "solution": false,
          "task": false
        },
        "id": "NeF5mvxpkb2r"
      },
      "source": [
        "Next thing we need is to fill in the request body. If you check the documentation you'll see that the ```audio-features``` endpoint takes the following query parameters.\n",
        "\n",
        "<img src=\"https://www.dropbox.com/s/s4zs6wlue0u16cu/body.png?raw=1\" width=\"500\">\n",
        "\n",
        "Hence, the final thing you need to extract data about Radiohead's Creep song is to locate its ```id```. This is its unique identifier. Spotify has unique ids for tracks, for artists, for albums, for playlists, etc.\n",
        "\n",
        "![Creep](https://www.dropbox.com/s/kufj6ww2yn069gb/creep.png?raw=1)\n",
        "\n",
        "You can get the ```id``` for any song by going to Spotify, looking for the song, clicking the “…” by the song name, then “Share” and then “Copy Spotify URI”. \n",
        "\n",
        "<div class=\"alert alert-warning\">Note that this procedure also works for retrieving ids for artists, albums or any other resource type.</div>\n",
        "\n",
        "This URI should be a string that includes something like **spotify:track:**, followed by an alphanumeric sequence. This sequence is the ID you are looking for.\n",
        "\n",
        "<div class=\"alert alert-info\"><b>Exercise </b>Create a new variable called <i>track_id</i> that stores the ID for Radiohead's song Creep.</div>"
      ]
    },
    {
      "cell_type": "code",
      "metadata": {
        "deletable": false,
        "nbgrader": {
          "cell_type": "code",
          "checksum": "17853b0c737595e9f79ec9eac375a290",
          "grade": false,
          "grade_id": "cell-a82a3e3a0e9e9b53",
          "locked": false,
          "schema_version": 3,
          "solution": true,
          "task": false
        },
        "id": "mFmCnv3Ikb2r"
      },
      "source": [
        "# YOUR CODE HERE\n",
        "track_id = '6b2oQwSGFkzsMtQruIWm2p'"
      ],
      "execution_count": null,
      "outputs": []
    },
    {
      "cell_type": "markdown",
      "metadata": {
        "id": "EzpiOVbykb2t"
      },
      "source": [
        "Now that we have the id, let's format the body of our request. As we did for NASA's API, we'll provide the body in dictionary form using a variable called *params*. Remember that the keys of this dictionary should correspond to the different query parameters defined in the documentation."
      ]
    },
    {
      "cell_type": "code",
      "metadata": {
        "id": "tUamBFhVkb2t"
      },
      "source": [
        "params = {'ids': [track_id]}"
      ],
      "execution_count": null,
      "outputs": []
    },
    {
      "cell_type": "markdown",
      "metadata": {
        "deletable": false,
        "editable": false,
        "nbgrader": {
          "cell_type": "markdown",
          "checksum": "40826b946b3026f0d7dd4d49683998ce",
          "grade": false,
          "grade_id": "cell-2316de9d4e91bc6f",
          "locked": true,
          "schema_version": 3,
          "solution": false,
          "task": false
        },
        "id": "8rLUolNQkb2v"
      },
      "source": [
        "Now that everything is ready, you can run the actual GET request to retrieve the data.\n",
        "\n",
        "<div class=\"alert alert-info\"><b>Exercise </b>Write the code to make your get request using the requests library. When doing so, remember to pass the <i>url</i>, the <i>headers</i> and the <i>params</i> dictionary as arguments to the <i>get</i> functions. Store the response in a new variable called <i>creep</i>.</div>"
      ]
    },
    {
      "cell_type": "code",
      "metadata": {
        "deletable": false,
        "nbgrader": {
          "cell_type": "code",
          "checksum": "c0caab5d16c0613a1003a67105f7af2c",
          "grade": false,
          "grade_id": "cell-6374d923d8f04079",
          "locked": false,
          "schema_version": 3,
          "solution": true,
          "task": false
        },
        "id": "6olcAeg7kb2v",
        "colab": {
          "base_uri": "https://localhost:8080/"
        },
        "outputId": "8ed0151f-8a6b-437e-cabf-5428bc215a6d"
      },
      "source": [
        "# YOUR CODE HERE\n",
        "creep = requests.get(url, params=params, headers=headers)\n",
        "\n",
        "creep"
      ],
      "execution_count": null,
      "outputs": [
        {
          "output_type": "execute_result",
          "data": {
            "text/plain": [
              "<Response [200]>"
            ]
          },
          "metadata": {
            "tags": []
          },
          "execution_count": 11
        }
      ]
    },
    {
      "cell_type": "markdown",
      "metadata": {
        "deletable": false,
        "editable": false,
        "nbgrader": {
          "cell_type": "markdown",
          "checksum": "418bbf591576f5b610fdef26986fd71b",
          "grade": false,
          "grade_id": "cell-4f3168388630bf38",
          "locked": true,
          "schema_version": 3,
          "solution": false,
          "task": false
        },
        "id": "tbTJxJGckb2x"
      },
      "source": [
        "<div class=\"alert alert-warning\">If you leave your notebook open for too long, your token might expire. When this happens, you will get an error {'error': {'status': 401, 'message': 'The access token expired'}} when making your request to the server. No worries. Just renew your token by executing the corresponding cell again and you should be good to go</div>\n",
        "\n",
        "Finally, let's convert the response to JSON format to be able to manipulate it with greater ease.\n",
        "\n",
        "<div class=\"alert alert-info\"><b>Exercise </b>Write the code to convert the response to JSON format. Keep the name <i>creep</i>.</div>"
      ]
    },
    {
      "cell_type": "code",
      "metadata": {
        "deletable": false,
        "nbgrader": {
          "cell_type": "code",
          "checksum": "16d259aee458fc0d2ae92ef0bf7826a3",
          "grade": false,
          "grade_id": "cell-bd0fefdcec9a3eea",
          "locked": false,
          "schema_version": 3,
          "solution": true,
          "task": false
        },
        "id": "1VeZ3FnPkb2y"
      },
      "source": [
        "# YOUR CODE HERE\n",
        "creep=creep.json()\n"
      ],
      "execution_count": null,
      "outputs": []
    },
    {
      "cell_type": "markdown",
      "metadata": {
        "deletable": false,
        "editable": false,
        "nbgrader": {
          "cell_type": "markdown",
          "checksum": "c90e051b61350d91cd71b6ecc54fe723",
          "grade": false,
          "grade_id": "cell-238505ce76d4ddd7",
          "locked": true,
          "schema_version": 3,
          "solution": false,
          "task": false
        },
        "id": "WOM1S_lakb2z"
      },
      "source": [
        "You can run the following cell to check if you obtained the right answer. If you get no error when running the cell it means that you did right. Otherwise, revise your code to ensure you get no error. You can run this cell as many times as you want, just **remember not to modify it**"
      ]
    },
    {
      "cell_type": "code",
      "metadata": {
        "deletable": false,
        "editable": false,
        "nbgrader": {
          "cell_type": "code",
          "checksum": "c145b117bb49ef6c309cfa6d223cee91",
          "grade": true,
          "grade_id": "ex1_open",
          "locked": true,
          "points": 0,
          "schema_version": 3,
          "solution": false,
          "task": false
        },
        "id": "HuzHZgwlkb2z"
      },
      "source": [
        "from nose.tools import assert_equal\n",
        "assert_equal(creep, {'audio_features': [{'danceability': 0.515,\n",
        "                                         'energy': 0.43,\n",
        "                                         'key': 7,\n",
        "                                         'loudness': -9.935,\n",
        "                                         'mode': 1,\n",
        "                                         'speechiness': 0.0369,\n",
        "                                         'acousticness': 0.0102,\n",
        "                                         'instrumentalness': 0.000141,\n",
        "                                         'liveness': 0.129,\n",
        "                                         'valence': 0.104,\n",
        "                                         'tempo': 91.841,\n",
        "                                         'type': 'audio_features',\n",
        "                                         'id': '6b2oQwSGFkzsMtQruIWm2p',\n",
        "                                         'uri': 'spotify:track:6b2oQwSGFkzsMtQruIWm2p',\n",
        "                                         'track_href': 'https://api.spotify.com/v1/tracks/6b2oQwSGFkzsMtQruIWm2p',\n",
        "                                         'analysis_url': 'https://api.spotify.com/v1/audio-analysis/6b2oQwSGFkzsMtQruIWm2p',\n",
        "                                         'duration_ms': 238640,\n",
        "                                         'time_signature': 4}]})"
      ],
      "execution_count": null,
      "outputs": []
    },
    {
      "cell_type": "markdown",
      "metadata": {
        "deletable": false,
        "editable": false,
        "nbgrader": {
          "cell_type": "markdown",
          "checksum": "7b5965575b09caeb7cc7365e0a959688",
          "grade": false,
          "grade_id": "cell-3790f150aa3bd111",
          "locked": true,
          "schema_version": 3,
          "solution": false,
          "task": false
        },
        "id": "kPnXwPlxkb23"
      },
      "source": [
        "Congrats! You just made your first successful request to Spotify's API! \n",
        "\n",
        "Feel free to take a look at the information stored in the response. Pay special attention to the way in which the different information is stored. Remember that the JSON format works basically as a dictionary, so may want to check the slides on dictionaries before goign further, to make sure you have them under control.\n",
        "\n",
        "Once you are done, let's move on to some actual work!\n",
        "\n",
        "## Getting data from a playlist\n",
        "\n",
        "In the following exercise you will build a dataset containing data about different songs. You can either use a playlist of your own, or use the one we have created for this purpose. You can find our playlist in the following [link](https://open.spotify.com/playlist/4NVeFUEHBybfh3ITNG1b8n?si=js9BKt5aTOiCWMm_Cx4Vvg). If you prefer not to use this, feel free to complete the exercise with a playlist of your choosing. \n",
        "\n",
        "<div class=\"alert alert-info\"><b>Exercise </b>Create a variable called <i>playlist_id</i> that stores the id of your playlist of choice.</div>"
      ]
    },
    {
      "cell_type": "code",
      "metadata": {
        "deletable": false,
        "nbgrader": {
          "cell_type": "code",
          "checksum": "c53c30ea0d85821b92a3e57e840cf4d8",
          "grade": false,
          "grade_id": "cell-ebb88e4537ea519b",
          "locked": false,
          "schema_version": 3,
          "solution": true,
          "task": false
        },
        "id": "roa0AzH-kb24"
      },
      "source": [
        "# YOUR CODE HERE\n",
        "\n",
        "playlist_id = '20Df9CAOPCLb40uBcE7Ud4'"
      ],
      "execution_count": null,
      "outputs": []
    },
    {
      "cell_type": "markdown",
      "metadata": {
        "deletable": false,
        "editable": false,
        "nbgrader": {
          "cell_type": "markdown",
          "checksum": "6c29df99b2b682c3b9c13d4e09a889a5",
          "grade": false,
          "grade_id": "cell-a618363337ae0889",
          "locked": true,
          "schema_version": 3,
          "solution": false,
          "task": false
        },
        "id": "oO5n58vnkb25"
      },
      "source": [
        "Next step will be making a request to extract all the data bout your chosen playlist. Remember that you can take a look at all the information available at the different endpoints in Spotify's API by reading the [Docs](https://developer.spotify.com/documentation/web-api/reference/).\n",
        "\n",
        "Locate the right endpoint for your query and read the Docs to find out how you should build your request. Don't use any of the optional arguments.\n",
        "\n",
        "<div class=\"alert alert-info\"><b>Exercise </b>Write the code to retrieve all the information about the chosen playlist in JSON form. Store the response in a new variable called <i>playlist</i>. When building your request, don't provide any information in the body. </div>"
      ]
    },
    {
      "cell_type": "code",
      "metadata": {
        "deletable": false,
        "nbgrader": {
          "cell_type": "code",
          "checksum": "e51c24b23211de5ba30f90cf0720dfec",
          "grade": false,
          "grade_id": "cell-e54d8db96e712bd8",
          "locked": false,
          "schema_version": 3,
          "solution": true,
          "task": false
        },
        "id": "tdR1Wvq-kb26"
      },
      "source": [
        "# YOUR CODE HERE\n",
        "\n",
        "playlist = requests.get(url=f'https://api.spotify.com/v1/playlists/{playlist_id}/tracks', headers=headers).json()"
      ],
      "execution_count": null,
      "outputs": []
    },
    {
      "cell_type": "markdown",
      "metadata": {
        "deletable": false,
        "editable": false,
        "nbgrader": {
          "cell_type": "markdown",
          "checksum": "ee573cda36cb21184f209b86d8b9ba4b",
          "grade": false,
          "grade_id": "cell-530e85fb96e03789",
          "locked": true,
          "schema_version": 3,
          "solution": false,
          "task": false
        },
        "id": "JedyikFKkb27"
      },
      "source": [
        "<div class=\"alert alert-warning\">By default, Spotify's API only returns information about a maximum of 100 tracks in a playlist. There are ways to overcome this and I'll be happy to explain if you are interested. For now, though, let's keep it just like that. So, if your playlist of choice has more that 100 tracks, you'll get info about the first 100 of them.</div>\n",
        "\n",
        "The following cells check whether your request is correct. Please **don't write any code here**. Just leave them blank"
      ]
    },
    {
      "cell_type": "code",
      "metadata": {
        "deletable": false,
        "editable": false,
        "nbgrader": {
          "cell_type": "code",
          "checksum": "6fe07e64d72c6bfc46a2b818a77c5f60",
          "grade": true,
          "grade_id": "test1",
          "locked": true,
          "points": 1,
          "schema_version": 3,
          "solution": false,
          "task": false
        },
        "id": "bGxt2BVkkb28"
      },
      "source": [
        "# LEAVE BLANK"
      ],
      "execution_count": null,
      "outputs": []
    },
    {
      "cell_type": "code",
      "metadata": {
        "deletable": false,
        "editable": false,
        "nbgrader": {
          "cell_type": "code",
          "checksum": "ef5fb23324f4c72106f7d894e7e35436",
          "grade": true,
          "grade_id": "test2",
          "locked": true,
          "points": 2,
          "schema_version": 3,
          "solution": false,
          "task": false
        },
        "id": "r4RkZMipkb2-"
      },
      "source": [
        "# LEAVE BLANK"
      ],
      "execution_count": null,
      "outputs": []
    },
    {
      "cell_type": "markdown",
      "metadata": {
        "deletable": false,
        "editable": false,
        "nbgrader": {
          "cell_type": "markdown",
          "checksum": "a39f205657fd583f459545802820fdf4",
          "grade": false,
          "grade_id": "cell-8d3092be4da0c3a5",
          "locked": true,
          "schema_version": 3,
          "solution": false,
          "task": false
        },
        "id": "9FLVkkjckb2_"
      },
      "source": [
        "Once again, take your time to familiarize yourself with the data and how they are presented."
      ]
    },
    {
      "cell_type": "markdown",
      "metadata": {
        "deletable": false,
        "editable": false,
        "nbgrader": {
          "cell_type": "markdown",
          "checksum": "88efc5fd16fe23bb62b1fece1bb92c15",
          "grade": false,
          "grade_id": "cell-26a01f9f6110e52e",
          "locked": true,
          "schema_version": 3,
          "solution": false,
          "task": false
        },
        "id": "SqwezHqokb2_"
      },
      "source": [
        "<div class=\"alert alert-info\"><b>Exercise </b>Write the code to extract data about all the tracks included in your chosen playlist and save them into a pandas DataFrame object under the name <i>df</i>. The DataFrame should include the <i>album</i>, <i>artists</i>, <i>disc_number</i>, <i>duration_ms</i>, <i>explicit</i>, <i>name</i>, <i>popularity</i>, <i>release_date</i>, <i>track_number</i>, <i>uri</i>, <i>danceability</i>, <i>energy</i>, <i>key</i>, <i>loudness</i>, <i>mode</i>, <i>speechness</i>, <i>acousticness</i>, <i>instrulmentallness</i>, <i>liveness</i>, <i>valence</i> and <i>tempo</i> of every song. Use these same names as column names. In addition, your DataFrame should also include the total number of <i>followers</i>, the first listed <i>genre</i> and the <i>popularity</i> for the artists of each of the tracks. Store these data in columns called 'followers', 'genres' and 'artist_popularity'. The columns of your DataFrame should be ordered alphabetically. Use default index values.</div>\n",
        "\n",
        "You can take a look at the following image for reference. \n",
        "\n",
        "![Dataframe](https://www.dropbox.com/s/42exa8hn43f9nyp/dataframe.png?raw=1)"
      ]
    },
    {
      "cell_type": "code",
      "metadata": {
        "id": "ZZY-7VkfAAcY"
      },
      "source": [
        "tracks = playlist['items']"
      ],
      "execution_count": null,
      "outputs": []
    },
    {
      "cell_type": "code",
      "metadata": {
        "deletable": false,
        "nbgrader": {
          "cell_type": "code",
          "checksum": "9e1104e485add097d61264afa7d1830b",
          "grade": false,
          "grade_id": "cell-9aa4c60b25c87345",
          "locked": false,
          "schema_version": 3,
          "solution": true,
          "task": false
        },
        "id": "OqUDKS2qkb3A"
      },
      "source": [
        "# YOUR CODE HERE\n",
        "import pandas as pd\n",
        "\n",
        "#from playlist information\n",
        "\n",
        "album=[]\n",
        "artists=[]\n",
        "disc_number=[]\n",
        "duration_ms=[]\n",
        "explicit=[]\n",
        "name=[]\n",
        "popularity=[]\n",
        "release_date=[]\n",
        "track_number=[]\n",
        "uri=[]\n",
        "\n",
        "artist_id=[]\n",
        "\n",
        "\n",
        "for i in tracks:\n",
        "#album  \n",
        "  album.append(i['track']['album']['name'])\n",
        "\n",
        "#artists (multiple)\n",
        "\n",
        "#  art=[]\n",
        "# for j in range(len(i['track']['artists'])):\n",
        "#  art.append(i['track']['artists'][j]['name'])\n",
        "#  artists.append(art)\n",
        "\n",
        "#artists (single)\n",
        "  artists.append(i['track']['album']['artists'][0]['name'])\n",
        "#Bonus - Artist ID for followers, genres &  artist popularity\n",
        "  artist_id.append(i['track']['album']['artists'][0]['id'])\n",
        "\n",
        "#disc_number\n",
        "  disc_number.append(i['track']['disc_number'])\n",
        "\n",
        "#duration_ms\n",
        "  duration_ms.append(i['track']['duration_ms'])\n",
        "\n",
        "#explicit\n",
        "  explicit.append(i['track']['explicit'])\n",
        "\n",
        "#name\n",
        "  name.append(i['track']['name'])\n",
        "\n",
        "#popularity\n",
        "  popularity.append(i['track']['popularity'])\n",
        "\n",
        "#release_date\n",
        "  release_date.append(i['track']['album']['release_date'])\n",
        "\n",
        "#track_number\n",
        "  track_number.append(i['track']['track_number'])\n",
        "\n",
        "#uri\n",
        "  uri.append(i['track']['uri'][-22:])"
      ],
      "execution_count": null,
      "outputs": []
    },
    {
      "cell_type": "code",
      "metadata": {
        "id": "UpNrS29q95Ow"
      },
      "source": [
        "#from track audio_features\n",
        "\n",
        "danceability=[]\n",
        "energy=[]\n",
        "key=[]\n",
        "loudness=[]\n",
        "mode=[]\n",
        "speechiness=[]\n",
        "acousticness=[]\n",
        "instrumentalness=[]\n",
        "liveness=[]\n",
        "valence=[]\n",
        "tempo=[]\n",
        "\n",
        "#API GET audio_features\n",
        "\n",
        "for id in uri:\n",
        "  params={'ids': [id]}\n",
        "  songinf=requests.get(url, params=params, headers=headers).json()\n",
        "\n",
        "\n",
        "#danceability\n",
        "  danceability.append(songinf['audio_features'][0]['danceability'])\n",
        "\n",
        "#energy\n",
        "  energy.append(songinf['audio_features'][0]['energy'])\n",
        "\n",
        "#key\n",
        "  key.append(songinf['audio_features'][0]['key'])\n",
        "\n",
        "#loudness\n",
        "  loudness.append(songinf['audio_features'][0]['loudness'])\n",
        "\n",
        "#mode\n",
        "  mode.append(songinf['audio_features'][0]['mode'])\n",
        "\n",
        "#speechness\n",
        "  speechiness.append(songinf['audio_features'][0]['speechiness'])\n",
        "\n",
        "#acousticness\n",
        "  acousticness.append(songinf['audio_features'][0]['acousticness'])\n",
        "\n",
        "#instrumentalness\n",
        "  instrumentalness.append(songinf['audio_features'][0]['instrumentalness'])\n",
        "\n",
        "#liveness\n",
        "  liveness.append(songinf['audio_features'][0]['liveness'])\n",
        "\n",
        "#valence\n",
        "  valence.append(songinf['audio_features'][0]['valence'])\n",
        "\n",
        "#tempo\n",
        "  tempo.append(songinf['audio_features'][0]['tempo'])"
      ],
      "execution_count": null,
      "outputs": []
    },
    {
      "cell_type": "code",
      "metadata": {
        "id": "0zL5bn61-PMs",
        "colab": {
          "base_uri": "https://localhost:8080/"
        },
        "outputId": "84c0c504-1dd5-49fd-d861-75db29717335"
      },
      "source": [
        "#from artist information\n",
        "\n",
        "followers=[]\n",
        "genres=[]\n",
        "artist_popularity=[]\n",
        "\n",
        "\n",
        "for id in artist_id:\n",
        "  params={'ids': [id]}\n",
        "  artist_info=requests.get('https://api.spotify.com/v1/artists', params=params, headers=headers).json()['artists']\n",
        "\n",
        "#followers\n",
        "  followers.append(artist_info[0]['followers']['total'])\n",
        "\n",
        "#genres\n",
        "  genres.append(artist_info[0]['genres'][0])\n",
        "\n",
        "#artist popularity\n",
        "  artist_popularity.append(artist_info[0]['popularity'])\n",
        "\n",
        "print(genres)"
      ],
      "execution_count": null,
      "outputs": [
        {
          "output_type": "stream",
          "text": [
            "['indie soul', 'indie soul', 'indie soul', 'uk alternative hip hop', 'alternative hip hop', 'indie soul', 'hip hop', 'indie soul', 'indie soul', 'indie soul', 'indie soul', 'indie soul', 'indie soul', 'indie soul', 'indie soul', 'indie soul', 'indie soul', 'indie soul', 'alternative r&b', 'hip hop', 'hip hop', 'hip hop', 'hip hop', 'indie soul', 'indie soul', 'indie soul', 'indie soul', 'indie soul', 'indie soul', 'escape room', 'alternative r&b', 'escape room', 'alternative r&b', 'alternative r&b', 'alternative r&b', 'alternative r&b', 'alternative r&b', 'alternative r&b', 'alternative r&b', 'alternative r&b', 'alternative r&b', 'escape room', 'escape room', 'escape room', 'escape room', 'escape room', 'escape room', 'alternative r&b', 'alternative r&b', 'escape room', 'dance pop', 'escape room', 'escape room', 'escape room', 'escape room', 'escape room', 'escape room', 'escape room', 'escape room', 'escape room', 'escape room', 'escape room', 'escape room', 'escape room', 'escape room', 'escape room', 'filter house', 'filter house', 'filter house', 'filter house', 'filter house', 'filter house', 'filter house', 'filter house', 'filter house', 'filter house', 'alternative r&b', 'channel islands indie', 'channel islands indie', 'channel islands indie', 'channel islands indie', 'channel islands indie', 'channel islands indie', 'moombahton', 'alternative r&b', 'alternative r&b', 'alternative r&b', 'alternative r&b', 'alternative r&b', 'chillhop', 'munich electronic', 'hip hop', 'escape room', 'alternative hip hop', 'hip hop', 'hip hop', 'escape room', 'london rap', 'jazz rap', 'alternative hip hop']\n"
          ],
          "name": "stdout"
        }
      ]
    },
    {
      "cell_type": "code",
      "metadata": {
        "id": "AsIu2Mb6QMyn"
      },
      "source": [
        "data = {\n",
        "    \n",
        "#from playlist information        \n",
        "        'album': album, 'artists': artists, 'disc_number': disc_number, 'duration_ms': duration_ms, 'explicit': explicit, 'name': name, 'popularity': popularity, 'release_date': release_date, 'track_number': track_number, 'uri': uri,\n",
        "\n",
        "#from track information        \n",
        "        'danceability': danceability, 'energy': energy, 'key': key, 'loudness': loudness, 'mode': mode, 'speechiness': speechiness, 'acousticness': acousticness, 'instrumentalness': instrumentalness, 'liveness': liveness, 'valence': valence, 'tempo': tempo,\n",
        "\n",
        "#from artist information\n",
        "        'followers': followers, 'genres': genres, 'artist_popularity': artist_popularity\n",
        "        \n",
        "        }\n",
        "\n",
        "\n",
        "df = pd.DataFrame(data=data)"
      ],
      "execution_count": null,
      "outputs": []
    },
    {
      "cell_type": "markdown",
      "metadata": {
        "deletable": false,
        "editable": false,
        "nbgrader": {
          "cell_type": "markdown",
          "checksum": "e8686d2e7d51fc2d51b7ccd6624b7682",
          "grade": false,
          "grade_id": "cell-10d33fbb1ec08490",
          "locked": true,
          "schema_version": 3,
          "solution": false,
          "task": false
        },
        "id": "oFvN7M9Ckb3B"
      },
      "source": [
        "The following cells check whether your code is correct. Please **don't write any code here**. Just leave them as they are."
      ]
    },
    {
      "cell_type": "code",
      "metadata": {
        "deletable": false,
        "editable": false,
        "nbgrader": {
          "cell_type": "code",
          "checksum": "6b451d4273e373909761e8984a2e1251",
          "grade": true,
          "grade_id": "test3",
          "locked": true,
          "points": 1,
          "schema_version": 3,
          "solution": false,
          "task": false
        },
        "id": "9ibghT5Xkb3B"
      },
      "source": [
        "# LEAVE BLANK"
      ],
      "execution_count": null,
      "outputs": []
    },
    {
      "cell_type": "code",
      "metadata": {
        "deletable": false,
        "editable": false,
        "nbgrader": {
          "cell_type": "code",
          "checksum": "490dbf4766e043b157c16cf29db7a345",
          "grade": true,
          "grade_id": "test4",
          "locked": true,
          "points": 1,
          "schema_version": 3,
          "solution": false,
          "task": false
        },
        "id": "39WDxG4Dkb3D"
      },
      "source": [
        "# LEAVE BLANK"
      ],
      "execution_count": null,
      "outputs": []
    },
    {
      "cell_type": "code",
      "metadata": {
        "deletable": false,
        "editable": false,
        "nbgrader": {
          "cell_type": "code",
          "checksum": "e2f9d394c0b986254a0abfef32d56ea6",
          "grade": true,
          "grade_id": "test5",
          "locked": true,
          "points": 1,
          "schema_version": 3,
          "solution": false,
          "task": false
        },
        "id": "kiGFCiMtkb3F"
      },
      "source": [
        "# LEAVE BLANK"
      ],
      "execution_count": null,
      "outputs": []
    },
    {
      "cell_type": "code",
      "metadata": {
        "deletable": false,
        "editable": false,
        "nbgrader": {
          "cell_type": "code",
          "checksum": "218951787e2dc70588004e1ca76a6b45",
          "grade": true,
          "grade_id": "test6",
          "locked": true,
          "points": 2,
          "schema_version": 3,
          "solution": false,
          "task": false
        },
        "id": "37tywNuukb3H"
      },
      "source": [
        "# LEAVE BLANK"
      ],
      "execution_count": null,
      "outputs": []
    },
    {
      "cell_type": "code",
      "metadata": {
        "deletable": false,
        "nbgrader": {
          "cell_type": "code",
          "checksum": "8113d70265191045959c1a41fe3f7bfb",
          "grade": true,
          "grade_id": "test7",
          "locked": false,
          "points": 2,
          "schema_version": 3,
          "solution": true,
          "task": false
        },
        "id": "kGsGJJfMkb3I"
      },
      "source": [
        "# LEAVE BLANK"
      ],
      "execution_count": null,
      "outputs": []
    },
    {
      "cell_type": "markdown",
      "metadata": {
        "deletable": false,
        "editable": false,
        "nbgrader": {
          "cell_type": "markdown",
          "checksum": "cbd02dd3514d8ef680333e5623351209",
          "grade": false,
          "grade_id": "cell-708e9c18fe4ff0cd",
          "locked": true,
          "schema_version": 3,
          "solution": false,
          "task": false
        },
        "id": "TcjGD5Oukb3K"
      },
      "source": [
        "## Saving the data\n",
        "\n",
        "The final step is to save the DataFrame to a csv file in order to be able to load it into your BigML account. You can do so using DataFrame's ```to_csv``` method. This method takes your DataFrame and saves it to a file of your choosing in the same directoy where your notebook is located.\n",
        "\n",
        "Run the following cell to save your DataFrame to a .csv file called 'spotify.csv'."
      ]
    },
    {
      "cell_type": "code",
      "metadata": {
        "id": "EoC0q2oAkb3K"
      },
      "source": [
        "df.to_csv('spotify.csv', sep=',')"
      ],
      "execution_count": null,
      "outputs": []
    },
    {
      "cell_type": "markdown",
      "metadata": {
        "id": "6Y435UxZkb3M"
      },
      "source": [
        "<div class=\"alert alert-danger\"><b>Disclaimer: </b>This is a graded assignment. You can share your doubts in the course Forum and give a hand to your classmates with theirs. Yet, remember that posting explicit solutions to any of the exercises is strictly forbidden.</div>"
      ]
    }
  ]
}